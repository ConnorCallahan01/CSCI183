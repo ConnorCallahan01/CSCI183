{
 "cells": [
  {
   "cell_type": "markdown",
   "id": "b2aeed4b",
   "metadata": {},
   "source": [
    "# Q3\n",
    "##  Write a Python program that matches a word containing 'z', not at the start or end of the word. [5 points]"
   ]
  },
  {
   "cell_type": "code",
   "execution_count": 1,
   "id": "664593af",
   "metadata": {
    "scrolled": true
   },
   "outputs": [
    {
     "name": "stdout",
     "output_type": "stream",
     "text": [
      "Enter an string: bozo\n"
     ]
    },
    {
     "data": {
      "text/plain": [
       "True"
      ]
     },
     "execution_count": 1,
     "metadata": {},
     "output_type": "execute_result"
    }
   ],
   "source": [
    "def check_for_z(input_word):\n",
    "    flag = False\n",
    "    for i in range(1, len(input_word)-1):\n",
    "        if input_word[i] == 'z':\n",
    "            flag = True\n",
    "            return flag\n",
    "    return flag\n",
    "\n",
    "given_string = str(input(\"Enter an string: \"))\n",
    "check_for_z(given_string)"
   ]
  },
  {
   "cell_type": "markdown",
   "id": "141e0c2d",
   "metadata": {},
   "source": [
    "# Q6.\n",
    "##  Write a Python program to convert a Python dictionary object (sort by key) to JSON data.  [5 points]"
   ]
  },
  {
   "cell_type": "code",
   "execution_count": 2,
   "id": "11c1c187",
   "metadata": {},
   "outputs": [
    {
     "name": "stdout",
     "output_type": "stream",
     "text": [
      "{\n",
      "  \"alpha\": 1,\n",
      "  \"bravo\": 2,\n",
      "  \"charlie\": 3\n",
      "}\n"
     ]
    }
   ],
   "source": [
    "import json\n",
    "input_dict={'bravo': 2, 'alpha':1, 'charlie': 3}\n",
    "\n",
    "ans = json.dumps(input_dict, sort_keys=True, indent=2)\n",
    "\n",
    "print(ans)\n",
    "\n"
   ]
  }
 ],
 "metadata": {
  "kernelspec": {
   "display_name": "Python 3",
   "language": "python",
   "name": "python3"
  },
  "language_info": {
   "codemirror_mode": {
    "name": "ipython",
    "version": 3
   },
   "file_extension": ".py",
   "mimetype": "text/x-python",
   "name": "python",
   "nbconvert_exporter": "python",
   "pygments_lexer": "ipython3",
   "version": "3.6.13"
  }
 },
 "nbformat": 4,
 "nbformat_minor": 5
}
